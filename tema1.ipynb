{
 "cells": [
  {
   "cell_type": "code",
   "execution_count": 1,
   "metadata": {},
   "outputs": [
    {
     "data": {
      "text/plain": [
       "[75, 175, 229, 138, 185, 155]"
      ]
     },
     "execution_count": 1,
     "metadata": {},
     "output_type": "execute_result"
    }
   ],
   "source": [
    "f2 = open('numbers.txt', 'r')\n",
    "res=list(sum(map(int, (str.split(line[:-1], \",\")))) for line in f2)\n",
    "f2.close\n",
    "res"
   ]
  },
  {
   "cell_type": "code",
   "execution_count": 2,
   "metadata": {},
   "outputs": [
    {
     "data": {
      "text/plain": [
       "957"
      ]
     },
     "execution_count": 2,
     "metadata": {},
     "output_type": "execute_result"
    }
   ],
   "source": [
    "\n",
    "f2 = open('numbers.txt', 'r')\n",
    "res=sum(list(sum(map(int, (str.split(line[:-1], \",\")))) for line in f2))\n",
    "f2.close\n",
    "res"
   ]
  },
  {
   "cell_type": "code",
   "execution_count": 12,
   "metadata": {
    "collapsed": true
   },
   "outputs": [
    {
     "data": {
      "text/plain": [
       "[10,\n",
       " 15,\n",
       " 20,\n",
       " 30,\n",
       " 20,\n",
       " 25,\n",
       " 50,\n",
       " 80,\n",
       " 50,\n",
       " 54,\n",
       " 55,\n",
       " 70,\n",
       " 30,\n",
       " 35,\n",
       " 60,\n",
       " 13,\n",
       " 40,\n",
       " 45,\n",
       " 70,\n",
       " 30,\n",
       " 60,\n",
       " 66,\n",
       " 12,\n",
       " 17]"
      ]
     },
     "execution_count": 12,
     "metadata": {},
     "output_type": "execute_result"
    }
   ],
   "source": [
    "f2 = open('numbers.txt', 'r')\n",
    "res= [list(map(int, (str.split(line[:-1], \",\")))) for line in f2]\n",
    "f2.close\n",
    "l=sum(res, [])\n",
    "l"
   ]
  },
  {
   "cell_type": "code",
   "execution_count": 13,
   "metadata": {},
   "outputs": [
    {
     "data": {
      "text/plain": [
       "13"
      ]
     },
     "execution_count": 13,
     "metadata": {},
     "output_type": "execute_result"
    }
   ],
   "source": [
    "counter=0;\n",
    "for item in l:\n",
    "    if item>30.1:\n",
    "        counter+=1;\n",
    "counter"
   ]
  },
  {
   "cell_type": "code",
   "execution_count": null,
   "metadata": {},
   "outputs": [],
   "source": []
  },
  {
   "cell_type": "code",
   "execution_count": 50,
   "metadata": {},
   "outputs": [
    {
     "name": "stdout",
     "output_type": "stream",
     "text": [
      "[[1, 0], [2, 0], [3, 0], [4, 0], [5, 0], [6, 0], [7, 0], [8, 0], [9, 0], [10, 0], [11, 1], [12, 1], [13, 2], [14, 3], [15, 3], [16, 4], [17, 4], [18, 5], [19, 5], [20, 5], [21, 7], [22, 7], [23, 7], [24, 7], [25, 7], [26, 8], [27, 8], [28, 8], [29, 8], [30, 8], [31, 11], [32, 11], [33, 11], [34, 11], [35, 11], [36, 12], [37, 12], [38, 12], [39, 12], [40, 12], [41, 13], [42, 13], [43, 13], [44, 13], [45, 13], [46, 14], [47, 14], [48, 14], [49, 14], [50, 14], [51, 16], [52, 16], [53, 16], [54, 16], [55, 17], [56, 18], [57, 18], [58, 18], [59, 18], [60, 18], [61, 20], [62, 20], [63, 20], [64, 20], [65, 20], [66, 20], [67, 21], [68, 21], [69, 21], [70, 21], [71, 23], [72, 23], [73, 23], [74, 23], [75, 23], [76, 23], [77, 23], [78, 23], [79, 23], [80, 23], [81, 24], [82, 24], [83, 24], [84, 24], [85, 24], [86, 24], [87, 24], [88, 24], [89, 24], [90, 24], [91, 24], [92, 24], [93, 24], [94, 24], [95, 24], [96, 24], [97, 24], [98, 24], [99, 24]]\n"
     ]
    }
   ],
   "source": [
    "f2 = open('numbers.txt', 'r')\n",
    "res= [list(map(int, (str.split(line[:-1], \",\")))) for line in f2]\n",
    "f2.close\n",
    "l=sum(res, [])\n",
    "\n",
    "mat = [[0 for x in range(2)] for y in range(99)]\n",
    "for i in range(1,100):\n",
    "    mat[i-1][0]=i;\n",
    "    c=0;\n",
    "    for j in l:\n",
    "        if j<i:\n",
    "            c+=1;\n",
    "        mat[i-1][1]=c;\n",
    "\n",
    "print(mat)\n",
    "    \n",
    " "
   ]
  },
  {
   "cell_type": "code",
   "execution_count": null,
   "metadata": {},
   "outputs": [],
   "source": []
  }
 ],
 "metadata": {
  "kernelspec": {
   "display_name": "Python 3",
   "language": "python",
   "name": "python3"
  },
  "language_info": {
   "codemirror_mode": {
    "name": "ipython",
    "version": 3
   },
   "file_extension": ".py",
   "mimetype": "text/x-python",
   "name": "python",
   "nbconvert_exporter": "python",
   "pygments_lexer": "ipython3",
   "version": "3.7.0"
  }
 },
 "nbformat": 4,
 "nbformat_minor": 2
}
